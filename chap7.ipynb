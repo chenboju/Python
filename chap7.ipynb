{
  "nbformat": 4,
  "nbformat_minor": 0,
  "metadata": {
    "colab": {
      "name": "chap7.ipynb",
      "provenance": [],
      "authorship_tag": "ABX9TyPxWAfQeFNr7IOUB0kAXw4S",
      "include_colab_link": true
    },
    "kernelspec": {
      "name": "python3",
      "display_name": "Python 3"
    },
    "language_info": {
      "name": "python"
    }
  },
  "cells": [
    {
      "cell_type": "markdown",
      "metadata": {
        "id": "view-in-github",
        "colab_type": "text"
      },
      "source": [
        "<a href=\"https://colab.research.google.com/github/chenboju/Python/blob/main/chap7.ipynb\" target=\"_parent\"><img src=\"https://colab.research.google.com/assets/colab-badge.svg\" alt=\"Open In Colab\"/></a>"
      ]
    },
    {
      "cell_type": "markdown",
      "source": [
        "\n",
        "錯誤處理\n",
        "\n",
        "try:\n",
        "except:\n",
        "else:\n",
        "finally:"
      ],
      "metadata": {
        "id": "rmUrK3rJpO9G"
      }
    },
    {
      "cell_type": "code",
      "source": [
        "a=10\n",
        "b=20\n",
        "if a<b:\n",
        "    print(n)"
      ],
      "metadata": {
        "colab": {
          "base_uri": "https://localhost:8080/",
          "height": 202
        },
        "id": "N_I3C5GLpVZd",
        "outputId": "abf5a340-19b1-429c-816a-f8add86ca39c"
      },
      "execution_count": 1,
      "outputs": [
        {
          "output_type": "error",
          "ename": "NameError",
          "evalue": "ignored",
          "traceback": [
            "\u001b[0;31m---------------------------------------------------------------------------\u001b[0m",
            "\u001b[0;31mNameError\u001b[0m                                 Traceback (most recent call last)",
            "\u001b[0;32m<ipython-input-1-c19f432ee023>\u001b[0m in \u001b[0;36m<module>\u001b[0;34m()\u001b[0m\n\u001b[1;32m      2\u001b[0m \u001b[0mb\u001b[0m\u001b[0;34m=\u001b[0m\u001b[0;36m20\u001b[0m\u001b[0;34m\u001b[0m\u001b[0;34m\u001b[0m\u001b[0m\n\u001b[1;32m      3\u001b[0m \u001b[0;32mif\u001b[0m \u001b[0ma\u001b[0m\u001b[0;34m<\u001b[0m\u001b[0mb\u001b[0m\u001b[0;34m:\u001b[0m\u001b[0;34m\u001b[0m\u001b[0;34m\u001b[0m\u001b[0m\n\u001b[0;32m----> 4\u001b[0;31m     \u001b[0mprint\u001b[0m\u001b[0;34m(\u001b[0m\u001b[0mn\u001b[0m\u001b[0;34m)\u001b[0m\u001b[0;34m\u001b[0m\u001b[0;34m\u001b[0m\u001b[0m\n\u001b[0m",
            "\u001b[0;31mNameError\u001b[0m: name 'n' is not defined"
          ]
        }
      ]
    },
    {
      "cell_type": "code",
      "source": [
        "a=10\n",
        "b=20\n",
        "try:\n",
        "    if a<b:\n",
        "        print(n)\n",
        "except:\n",
        "    print(\"錯誤產生\")"
      ],
      "metadata": {
        "colab": {
          "base_uri": "https://localhost:8080/"
        },
        "id": "DG4SM4qKpwXj",
        "outputId": "a14b82a0-a37a-4f33-ca48-0a931caa1458"
      },
      "execution_count": 2,
      "outputs": [
        {
          "output_type": "stream",
          "name": "stdout",
          "text": [
            "錯誤產生\n"
          ]
        }
      ]
    },
    {
      "cell_type": "markdown",
      "source": [
        "指定錯誤類別處理"
      ],
      "metadata": {
        "id": "LHEIpsmjpy_M"
      }
    },
    {
      "cell_type": "code",
      "source": [
        "a=10\n",
        "b=20\n",
        "try:\n",
        "    if a<b:\n",
        "        print(n)\n",
        "except NameError as e:\n",
        "    print(\"錯誤產生, 錯誤原因：\",e)\n",
        "except ZeroDivisionError:\n",
        "    print(\"除以0錯誤\")"
      ],
      "metadata": {
        "colab": {
          "base_uri": "https://localhost:8080/"
        },
        "id": "fUS6srK0p24Y",
        "outputId": "7717e0c1-7f11-4945-f190-49f1bb4d9ac0"
      },
      "execution_count": 3,
      "outputs": [
        {
          "output_type": "stream",
          "name": "stdout",
          "text": [
            "錯誤產生, 錯誤原因： name 'n' is not defined\n"
          ]
        }
      ]
    },
    {
      "cell_type": "code",
      "source": [
        "a=10\n",
        "b=20\n",
        "try:\n",
        "    if a>b: #改變比較條件，讓錯誤不發生\n",
        "        print(n)\n",
        "except:\n",
        "    print(\"錯誤發生\")\n",
        "else:\n",
        "    print(\"沒有錯誤發生時會執行的部分\")"
      ],
      "metadata": {
        "colab": {
          "base_uri": "https://localhost:8080/"
        },
        "id": "c4Ua-JpQqDao",
        "outputId": "c0e7ee10-8acb-4c26-dfd5-cd8ec5f25ba2"
      },
      "execution_count": 4,
      "outputs": [
        {
          "output_type": "stream",
          "name": "stdout",
          "text": [
            "沒有錯誤發生時會執行的部分\n"
          ]
        }
      ]
    },
    {
      "cell_type": "code",
      "source": [
        "a=10\n",
        "b=20\n",
        "try:\n",
        "    if a>b: #改變比較條件，讓錯誤不發生\n",
        "        print(n)\n",
        "except:\n",
        "    print(\"錯誤發生\")\n",
        "else:\n",
        "    print(\"沒有錯誤發生時會執行的部分\")\n",
        "finally:\n",
        "    print(\"不管有沒有錯誤一定會執行的部分\")"
      ],
      "metadata": {
        "colab": {
          "base_uri": "https://localhost:8080/"
        },
        "id": "6lym6KmRqKjC",
        "outputId": "7d725586-8d82-48c5-df0b-7f37e4f60ab5"
      },
      "execution_count": 5,
      "outputs": [
        {
          "output_type": "stream",
          "name": "stdout",
          "text": [
            "沒有錯誤發生時會執行的部分\n",
            "不管有沒有錯誤一定會執行的部分\n"
          ]
        }
      ]
    }
  ]
}