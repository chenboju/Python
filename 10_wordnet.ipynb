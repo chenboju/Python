{
  "nbformat": 4,
  "nbformat_minor": 0,
  "metadata": {
    "colab": {
      "provenance": [],
      "include_colab_link": true
    },
    "kernelspec": {
      "name": "python3",
      "display_name": "Python 3"
    },
    "language_info": {
      "name": "python"
    }
  },
  "cells": [
    {
      "cell_type": "markdown",
      "metadata": {
        "id": "view-in-github",
        "colab_type": "text"
      },
      "source": [
        "<a href=\"https://colab.research.google.com/github/chenboju/Python/blob/main/10_wordnet.ipynb\" target=\"_parent\"><img src=\"https://colab.research.google.com/assets/colab-badge.svg\" alt=\"Open In Colab\"/></a>"
      ]
    },
    {
      "cell_type": "markdown",
      "source": [
        "# 中文wordnet\n",
        "完整用法：https://github.com/lopentu/CwnGraph\n",
        "\n",
        "- 早期利用字詞表達文章的用法，可以透過查詢wordnet，找出查詢字跟那些字有關係。\n",
        "- wordnet是透過人工的方式，建立起字詞之間的關係\n",
        "- 本範例介紹中文的wordnet，查詢\"頭\"這個字，看有多少跟\"頭\"相關的字詞\n",
        "- 另外介紹英文的wordnet，查詢跟\"dog\"相似的字詞"
      ],
      "metadata": {
        "id": "NLZPCMu0_SMu"
      }
    },
    {
      "cell_type": "code",
      "source": [
        "!pip install CwnGraph"
      ],
      "metadata": {
        "id": "2E02jlhZ8rr7",
        "outputId": "5d5c7a7f-c2bc-461e-e558-844c11156338",
        "colab": {
          "base_uri": "https://localhost:8080/"
        }
      },
      "execution_count": 4,
      "outputs": [
        {
          "output_type": "stream",
          "name": "stdout",
          "text": [
            "Requirement already satisfied: CwnGraph in /usr/local/lib/python3.10/dist-packages (0.4.0)\n",
            "Requirement already satisfied: gdown>=4.4.0 in /usr/local/lib/python3.10/dist-packages (from CwnGraph) (4.6.6)\n",
            "Requirement already satisfied: requests in /usr/local/lib/python3.10/dist-packages (from CwnGraph) (2.31.0)\n",
            "Requirement already satisfied: nltk in /usr/local/lib/python3.10/dist-packages (from CwnGraph) (3.8.1)\n",
            "Requirement already satisfied: filelock in /usr/local/lib/python3.10/dist-packages (from gdown>=4.4.0->CwnGraph) (3.13.1)\n",
            "Requirement already satisfied: six in /usr/local/lib/python3.10/dist-packages (from gdown>=4.4.0->CwnGraph) (1.16.0)\n",
            "Requirement already satisfied: tqdm in /usr/local/lib/python3.10/dist-packages (from gdown>=4.4.0->CwnGraph) (4.66.1)\n",
            "Requirement already satisfied: beautifulsoup4 in /usr/local/lib/python3.10/dist-packages (from gdown>=4.4.0->CwnGraph) (4.11.2)\n",
            "Requirement already satisfied: click in /usr/local/lib/python3.10/dist-packages (from nltk->CwnGraph) (8.1.7)\n",
            "Requirement already satisfied: joblib in /usr/local/lib/python3.10/dist-packages (from nltk->CwnGraph) (1.3.2)\n",
            "Requirement already satisfied: regex>=2021.8.3 in /usr/local/lib/python3.10/dist-packages (from nltk->CwnGraph) (2023.6.3)\n",
            "Requirement already satisfied: charset-normalizer<4,>=2 in /usr/local/lib/python3.10/dist-packages (from requests->CwnGraph) (3.3.2)\n",
            "Requirement already satisfied: idna<4,>=2.5 in /usr/local/lib/python3.10/dist-packages (from requests->CwnGraph) (3.6)\n",
            "Requirement already satisfied: urllib3<3,>=1.21.1 in /usr/local/lib/python3.10/dist-packages (from requests->CwnGraph) (2.0.7)\n",
            "Requirement already satisfied: certifi>=2017.4.17 in /usr/local/lib/python3.10/dist-packages (from requests->CwnGraph) (2023.11.17)\n",
            "Requirement already satisfied: soupsieve>1.2 in /usr/local/lib/python3.10/dist-packages (from beautifulsoup4->gdown>=4.4.0->CwnGraph) (2.5)\n",
            "Requirement already satisfied: PySocks!=1.5.7,>=1.5.6 in /usr/local/lib/python3.10/dist-packages (from requests->CwnGraph) (1.7.1)\n"
          ]
        }
      ]
    },
    {
      "cell_type": "code",
      "execution_count": 5,
      "metadata": {
        "colab": {
          "base_uri": "https://localhost:8080/"
        },
        "id": "Kuuu-WmF8M5u",
        "outputId": "52405e0a-d793-44cf-e5be-d168c854113e"
      },
      "outputs": [
        {
          "output_type": "stream",
          "name": "stdout",
          "text": [
            "[<CwnLemma: 罐頭_1>, <CwnLemma: 年頭_1>, <CwnLemma: 山頭_1>, <CwnLemma: 頭_1>, <CwnLemma: 頭疼_1>, <CwnLemma: 從頭_1>, <CwnLemma: 龍頭_1>, <CwnLemma: 口頭_1>, <CwnLemma: 出頭_1>, <CwnLemma: 斷頭_1>, <CwnLemma: 分頭_1>, <CwnLemma: 回頭_1>, <CwnLemma: 磕頭_1>, <CwnLemma: 頭號_1>, <CwnLemma: 頭部_1>, <CwnLemma: 點頭_1>, <CwnLemma: 抬頭_1>, <CwnLemma: 街頭_1>, <CwnLemma: 裡頭_1>, <CwnLemma: 源頭_1>, <CwnLemma: 頭家_1>, <CwnLemma: 工頭_1>, <CwnLemma: 大舌頭_1>, <CwnLemma: 老頭_1>, <CwnLemma: 老頭子_1>, <CwnLemma: 花頭_1>, <CwnLemma: 白頭翁_1>, <CwnLemma: 頭彩_1>, <CwnLemma: 人頭稅_1>, <CwnLemma: 戶頭_1>, <CwnLemma: 頭癬_1>, <CwnLemma: 木頭_1>, <CwnLemma: 領頭_1>, <CwnLemma: 頭錘_1>, <CwnLemma: 零頭_1>, <CwnLemma: 接頭_1>, <CwnLemma: 頭狀_1>, <CwnLemma: 白頭鷹_1>, <CwnLemma: 貓頭鷹_1>, <CwnLemma: 頭蝨_1>, <CwnLemma: 奶頭_1>, <CwnLemma: 頭髮_1>, <CwnLemma: 平頭_1>, <CwnLemma: 舌頭_1>, <CwnLemma: 龜頭_1>, <CwnLemma: 人頭_1>, <CwnLemma: 頭頂_1>, <CwnLemma: 頭皮_1>, <CwnLemma: 頭蓋_1>, <CwnLemma: 拳頭_1>, <CwnLemma: 雙頭肌_1>, <CwnLemma: 額頭_1>, <CwnLemma: 念頭_1>, <CwnLemma: 頭條_1>, <CwnLemma: 開頭_1>, <CwnLemma: 叩頭_1>, <CwnLemma: 芋頭_1>, <CwnLemma: 橋頭堡_1>, <CwnLemma: 盡頭_1>, <CwnLemma: 石頭_1>, <CwnLemma: 露頭_1>, <CwnLemma: 頭皮屑_1>, <CwnLemma: 兩頭蛇_1>, <CwnLemma: 空頭_1>, <CwnLemma: 頭重腳輕_1>, <CwnLemma: 箭頭_1>, <CwnLemma: 斧頭_1>, <CwnLemma: 鑽頭_1>, <CwnLemma: 船頭_1>, <CwnLemma: 頭巾_1>, <CwnLemma: 虎頭蛇尾_1>, <CwnLemma: 鏡頭_1>, <CwnLemma: 柱頭_1>, <CwnLemma: 頭暈目眩_1>, <CwnLemma: 煙頭_1>, <CwnLemma: 滑頭_1>, <CwnLemma: 寡頭政治_1>, <CwnLemma: 頭銜_1>, <CwnLemma: 頭蓋骨_1>, <CwnLemma: 乳頭狀_1>, <CwnLemma: 喉頭_1>, <CwnLemma: 水龍頭_1>, <CwnLemma: 大頭_1>, <CwnLemma: 頭等艙_1>, <CwnLemma: 斷頭台_1>, <CwnLemma: 行頭_1>, <CwnLemma: 頭盔_1>, <CwnLemma: 頭像_1>, <CwnLemma: 鋤頭_1>, <CwnLemma: 頭罩_1>, <CwnLemma: 火車頭_1>, <CwnLemma: 磁頭_1>, <CwnLemma: 碼頭_1>, <CwnLemma: 尖頭_1>, <CwnLemma: 枕頭_1>, <CwnLemma: 針頭_1>, <CwnLemma: 插頭_1>, <CwnLemma: 店頭_1>, <CwnLemma: 噴頭_1>, <CwnLemma: 蓮蓬頭_1>, <CwnLemma: 矛頭_1>, <CwnLemma: 大頭釘_1>, <CwnLemma: 頭飾_1>, <CwnLemma: 三頭馬車_1>, <CwnLemma: 彈頭_1>, <CwnLemma: 皺眉頭_1>, <CwnLemma: 從頭到尾_1>, <CwnLemma: 頭昏眼花_1>, <CwnLemma: 賊頭賊腦_1>, <CwnLemma: 砍頭_1>, <CwnLemma: 起頭_1>, <CwnLemma: 梳頭_1>, <CwnLemma: 禿頭_1>, <CwnLemma: 搖頭_1>, <CwnLemma: 掉頭_1>, <CwnLemma: 垂頭喪氣_1>, <CwnLemma: 頭等_1>, <CwnLemma: 噱頭_1>, <CwnLemma: 鐘頭_1>, <CwnLemma: 骨頭_1>, <CwnLemma: 後頭_1>, <CwnLemma: 裏頭_1>, <CwnLemma: 饅頭_1>, <CwnLemma: 前頭_1>, <CwnLemma: 上頭_1>, <CwnLemma: 手指頭_1>, <CwnLemma: 頭痛_1>, <CwnLemma: 外頭_1>, <CwnLemma: 到頭來_1>, <CwnLemma: 關頭_1>, <CwnLemma: 老頭兒_1>, <CwnLemma: 眉頭_1>, <CwnLemma: 派頭_1>, <CwnLemma: 頭腦_1>, <CwnLemma: 指頭_1>, <CwnLemma: 開頭兒_1>, <CwnLemma: 心頭_1>]\n"
          ]
        }
      ],
      "source": [
        "# 從 CwnGraph 模組中引入 CwnImage 類別\n",
        "from CwnGraph import CwnImage\n",
        "\n",
        "# 創建 CwnImage 實例並獲取最新版本\n",
        "cwn = CwnImage.latest()\n",
        "\n",
        "# 尋找與字元 \"頭\" 有關的詞彙\n",
        "lemmas = cwn.find_lemma(\"頭\")\n",
        "print(lemmas)\n",
        "\n"
      ]
    },
    {
      "cell_type": "markdown",
      "source": [
        "#英文wordnet\n",
        "完整用法：https://www.nltk.org/howto/wordnet.html"
      ],
      "metadata": {
        "id": "13NyCY9p_Hpi"
      }
    },
    {
      "cell_type": "code",
      "source": [
        "# 下載 WordNet 數據\n",
        "import nltk\n",
        "nltk.download('wordnet')\n",
        "\n",
        "# 從 nltk.corpus 中引入 wordnet\n",
        "from nltk.corpus import wordnet as wn\n",
        "\n",
        "# 查找與單詞 \"dog\" 相關的同義詞集\n",
        "synsets = wn.synsets('dog')\n",
        "\n",
        "print(synsets)\n"
      ],
      "metadata": {
        "colab": {
          "base_uri": "https://localhost:8080/"
        },
        "id": "aDX0UHsY-dR5",
        "outputId": "f0d7452b-71ba-4f6a-d76a-3d998cd91684"
      },
      "execution_count": 6,
      "outputs": [
        {
          "output_type": "stream",
          "name": "stdout",
          "text": [
            "[Synset('dog.n.01'), Synset('frump.n.01'), Synset('dog.n.03'), Synset('cad.n.01'), Synset('frank.n.02'), Synset('pawl.n.01'), Synset('andiron.n.01'), Synset('chase.v.01')]\n"
          ]
        },
        {
          "output_type": "stream",
          "name": "stderr",
          "text": [
            "[nltk_data] Downloading package wordnet to /root/nltk_data...\n",
            "[nltk_data]   Package wordnet is already up-to-date!\n"
          ]
        }
      ]
    }
  ]
}