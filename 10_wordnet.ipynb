{
  "nbformat": 4,
  "nbformat_minor": 0,
  "metadata": {
    "colab": {
      "provenance": [],
      "include_colab_link": true
    },
    "kernelspec": {
      "name": "python3",
      "display_name": "Python 3"
    },
    "language_info": {
      "name": "python"
    }
  },
  "cells": [
    {
      "cell_type": "markdown",
      "metadata": {
        "id": "view-in-github",
        "colab_type": "text"
      },
      "source": [
        "<a href=\"https://colab.research.google.com/github/chenboju/Python/blob/main/10_wordnet.ipynb\" target=\"_parent\"><img src=\"https://colab.research.google.com/assets/colab-badge.svg\" alt=\"Open In Colab\"/></a>"
      ]
    },
    {
      "cell_type": "markdown",
      "source": [
        "# 中文wordnet\n",
        "完整用法：https://github.com/lopentu/CwnGraph\n",
        "\n",
        "- 早期利用字詞表達文章的用法，可以透過查詢wordnet，找出查詢字跟那些字有關係。\n",
        "- wordnet是透過人工的方式，建立起字詞之間的關係\n",
        "- 本範例介紹中文的wordnet，查詢\"頭\"這個字，看有多少跟\"頭\"相關的字詞\n",
        "- 另外介紹英文的wordnet，查詢跟\"dog\"相似的字詞"
      ],
      "metadata": {
        "id": "NLZPCMu0_SMu"
      }
    },
    {
      "cell_type": "code",
      "source": [
        "!pip install CwnGraph"
      ],
      "metadata": {
        "id": "2E02jlhZ8rr7",
        "outputId": "5d5c7a7f-c2bc-461e-e558-844c11156338",
        "colab": {
          "base_uri": "https://localhost:8080/"
        }
      },
      "execution_count": 4,
      "outputs": [
        {
          "output_type": "stream",
          "name": "stdout",
          "text": [
            "Requirement already satisfied: CwnGraph in /usr/local/lib/python3.10/dist-packages (0.4.0)\n",
            "Requirement already satisfied: gdown>=4.4.0 in /usr/local/lib/python3.10/dist-packages (from CwnGraph) (4.6.6)\n",
            "Requirement already satisfied: requests in /usr/local/lib/python3.10/dist-packages (from CwnGraph) (2.31.0)\n",
            "Requirement already satisfied: nltk in /usr/local/lib/python3.10/dist-packages (from CwnGraph) (3.8.1)\n",
            "Requirement already satisfied: filelock in /usr/local/lib/python3.10/dist-packages (from gdown>=4.4.0->CwnGraph) (3.13.1)\n",
            "Requirement already satisfied: six in /usr/local/lib/python3.10/dist-packages (from gdown>=4.4.0->CwnGraph) (1.16.0)\n",
            "Requirement already satisfied: tqdm in /usr/local/lib/python3.10/dist-packages (from gdown>=4.4.0->CwnGraph) (4.66.1)\n",
            "Requirement already satisfied: beautifulsoup4 in /usr/local/lib/python3.10/dist-packages (from gdown>=4.4.0->CwnGraph) (4.11.2)\n",
            "Requirement already satisfied: click in /usr/local/lib/python3.10/dist-packages (from nltk->CwnGraph) (8.1.7)\n",
            "Requirement already satisfied: joblib in /usr/local/lib/python3.10/dist-packages (from nltk->CwnGraph) (1.3.2)\n",
            "Requirement already satisfied: regex>=2021.8.3 in /usr/local/lib/python3.10/dist-packages (from nltk->CwnGraph) (2023.6.3)\n",
            "Requirement already satisfied: charset-normalizer<4,>=2 in /usr/local/lib/python3.10/dist-packages (from requests->CwnGraph) (3.3.2)\n",
            "Requirement already satisfied: idna<4,>=2.5 in /usr/local/lib/python3.10/dist-packages (from requests->CwnGraph) (3.6)\n",
            "Requirement already satisfied: urllib3<3,>=1.21.1 in /usr/local/lib/python3.10/dist-packages (from requests->CwnGraph) (2.0.7)\n",
            "Requirement already satisfied: certifi>=2017.4.17 in /usr/local/lib/python3.10/dist-packages (from requests->CwnGraph) (2023.11.17)\n",
            "Requirement already satisfied: soupsieve>1.2 in /usr/local/lib/python3.10/dist-packages (from beautifulsoup4->gdown>=4.4.0->CwnGraph) (2.5)\n",
            "Requirement already satisfied: PySocks!=1.5.7,>=1.5.6 in /usr/local/lib/python3.10/dist-packages (from requests->CwnGraph) (1.7.1)\n"
          ]
        }
      ]
    },
    {
      "cell_type": "code",
      "execution_count": 8,
      "metadata": {
        "colab": {
          "base_uri": "https://localhost:8080/"
        },
        "id": "Kuuu-WmF8M5u",
        "outputId": "b824ca93-6e1b-456c-ce09-62336c4f0414"
      },
      "outputs": [
        {
          "output_type": "stream",
          "name": "stdout",
          "text": [
            "[<CwnLemma: 虎_2>, <CwnLemma: 虎_1>, <CwnLemma: 虎子_1>, <CwnLemma: 虎鯊_1>, <CwnLemma: 壁虎_1>, <CwnLemma: 美洲虎_1>, <CwnLemma: 老虎_1>, <CwnLemma: 母老虎_1>, <CwnLemma: 劍齒虎_1>, <CwnLemma: 虎頭蛇尾_1>, <CwnLemma: 老虎窗_1>, <CwnLemma: 老虎鉗_1>, <CwnLemma: 狼吞虎嚥_1>, <CwnLemma: 馬虎_1>]\n"
          ]
        }
      ],
      "source": [
        "# 從 CwnGraph 模組中引入 CwnImage 類別\n",
        "from CwnGraph import CwnImage\n",
        "\n",
        "# 創建 CwnImage 實例並獲取最新版本\n",
        "cwn = CwnImage.latest()\n",
        "\n",
        "# 尋找與字元 \" \" 有關的詞彙\n",
        "lemmas = cwn.find_lemma(\"虎\")\n",
        "print(lemmas)\n",
        "\n"
      ]
    },
    {
      "cell_type": "markdown",
      "source": [
        "#英文wordnet\n",
        "完整用法：https://www.nltk.org/howto/wordnet.html"
      ],
      "metadata": {
        "id": "13NyCY9p_Hpi"
      }
    },
    {
      "cell_type": "code",
      "source": [
        "# 下載 WordNet 數據\n",
        "import nltk\n",
        "nltk.download('wordnet')\n",
        "\n",
        "# 從 nltk.corpus 中引入 wordnet\n",
        "from nltk.corpus import wordnet as wn\n",
        "\n",
        "# 查找與單詞 \"dog\" 相關的同義詞集\n",
        "synsets = wn.synsets('must')\n",
        "\n",
        "print(synsets)\n"
      ],
      "metadata": {
        "colab": {
          "base_uri": "https://localhost:8080/"
        },
        "id": "aDX0UHsY-dR5",
        "outputId": "7e0849cf-341d-4590-d8e1-9cd3012d6113"
      },
      "execution_count": 9,
      "outputs": [
        {
          "output_type": "stream",
          "name": "stdout",
          "text": [
            "[Synset('must.n.01'), Synset('must.n.02'), Synset('mustiness.n.01'), Synset('must.s.01')]\n"
          ]
        },
        {
          "output_type": "stream",
          "name": "stderr",
          "text": [
            "[nltk_data] Downloading package wordnet to /root/nltk_data...\n",
            "[nltk_data]   Package wordnet is already up-to-date!\n"
          ]
        }
      ]
    }
  ]
}